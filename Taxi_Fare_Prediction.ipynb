{
  "nbformat": 4,
  "nbformat_minor": 0,
  "metadata": {
    "colab": {
      "provenance": []
    },
    "kernelspec": {
      "name": "python3",
      "display_name": "Python 3"
    },
    "language_info": {
      "name": "python"
    }
  },
  "cells": [
    {
      "cell_type": "markdown",
      "source": [
        "*Project Cleaning:*\n",
        "\n",
        "# **New York City Taxi Fare Prediction**\n",
        "\n",
        "Data Cleaning and Preparation Steps:\n",
        "\n",
        "\n",
        "\n",
        "*   Load the dataset\n",
        "*   Handle missing values\n",
        "*  Detect and handle outliers\n",
        "*  Normalize the data\n",
        "*   Visualize the data\n",
        "\n",
        "\n",
        "\n"
      ],
      "metadata": {
        "id": "_2hrgXyjgYa1"
      }
    },
    {
      "cell_type": "code",
      "source": [
        "# Import necessary libraries\n",
        "import pandas as pd\n",
        "import numpy as np\n",
        "import matplotlib.pyplot as plt\n",
        "import seaborn as sns\n"
      ],
      "metadata": {
        "id": "DR_5eByFhDId"
      },
      "execution_count": null,
      "outputs": []
    },
    {
      "cell_type": "code",
      "source": [
        "# Load the dataset\n",
        "df_taxi = pd.read_csv('path_to_nyc_taxi_fare.csv')\n"
      ],
      "metadata": {
        "id": "QrCkIlmWhFTN"
      },
      "execution_count": null,
      "outputs": []
    },
    {
      "cell_type": "code",
      "source": [
        "# Display the original dataset\n",
        "print(\"Original Dataset:\")\n",
        "print(df_taxi.head())"
      ],
      "metadata": {
        "id": "l8TjoNP4hJBT"
      },
      "execution_count": null,
      "outputs": []
    },
    {
      "cell_type": "code",
      "source": [
        "# Handle missing values\n",
        "df_taxi.fillna(df_taxi.mean(), inplace=True)"
      ],
      "metadata": {
        "id": "eErUQnDHhLWd"
      },
      "execution_count": null,
      "outputs": []
    },
    {
      "cell_type": "code",
      "source": [
        "\n",
        "# Display the dataset after handling missing values\n",
        "print(\"\\nDataset after handling missing values:\")\n",
        "print(df_taxi.head())"
      ],
      "metadata": {
        "id": "tLQVPW17hNln"
      },
      "execution_count": null,
      "outputs": []
    },
    {
      "cell_type": "code",
      "source": [
        "# Detecting and handling outliers\n",
        "# For simplicity, consider 'fare_amount' column for outlier detection\n",
        "Q1 = df_taxi['fare_amount'].quantile(0.25)\n",
        "Q3 = df_taxi['fare_amount'].quantile(0.75)\n",
        "IQR = Q3 - Q1\n"
      ],
      "metadata": {
        "id": "QRM8fOUuhPYt"
      },
      "execution_count": null,
      "outputs": []
    },
    {
      "cell_type": "code",
      "source": [
        "\n",
        "# Define the lower and upper bound\n",
        "lower_bound = Q1 - 1.5 * IQR\n",
        "upper_bound = Q3 + 1.5 * IQR\n"
      ],
      "metadata": {
        "id": "XYuSwgHNhR1F"
      },
      "execution_count": null,
      "outputs": []
    },
    {
      "cell_type": "code",
      "source": [
        "\n",
        "# Replace outliers with the upper bound value\n",
        "df_taxi['fare_amount'] = np.where(df_taxi['fare_amount'] > upper_bound, upper_bound, df_taxi['fare_amount'])\n",
        "df_taxi['fare_amount'] = np.where(df_taxi['fare_amount'] < lower_bound, lower_bound, df_taxi['fare_amount'])\n"
      ],
      "metadata": {
        "id": "hEH7iC6bhT_L"
      },
      "execution_count": null,
      "outputs": []
    },
    {
      "cell_type": "code",
      "source": [
        "\n",
        "# Display the dataset after handling outliers\n",
        "print(\"\\nDataset after handling outliers:\")\n",
        "print(df_taxi.head())\n"
      ],
      "metadata": {
        "id": "U5csJm6FhWEz"
      },
      "execution_count": null,
      "outputs": []
    },
    {
      "cell_type": "code",
      "source": [
        "# Data normalization\n",
        "# Normalize 'fare_amount' column\n",
        "df_taxi['fare_amount'] = (df_taxi['fare_amount'] - df_taxi['fare_amount'].mean()) / df_taxi['fare_amount'].std()\n"
      ],
      "metadata": {
        "id": "S5Rkk0IlhYUv"
      },
      "execution_count": null,
      "outputs": []
    },
    {
      "cell_type": "code",
      "source": [
        "# Display the dataset after normalization\n",
        "print(\"\\nDataset after normalization:\")\n",
        "print(df_taxi.head())\n",
        "\n",
        "\n"
      ],
      "metadata": {
        "id": "Q8SwudgDhaMZ"
      },
      "execution_count": null,
      "outputs": []
    },
    {
      "cell_type": "code",
      "source": [
        "# Visualize the data\n",
        "plt.figure(figsize=(10, 5))\n",
        "sns.histplot(df_taxi['fare_amount'], bins=30, kde=True)\n",
        "plt.title('Distribution of Taxi Fare Amount')\n",
        "plt.xlabel('Fare Amount (Normalized)')\n",
        "plt.ylabel('Frequency')\n",
        "plt.show()"
      ],
      "metadata": {
        "id": "Dwl8caBhhbpq"
      },
      "execution_count": null,
      "outputs": []
    }
  ]
}